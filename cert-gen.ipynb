{
 "cells": [
  {
   "cell_type": "code",
   "execution_count": 44,
   "metadata": {},
   "outputs": [],
   "source": [
    "# Importing the PIL library\n",
    "from PIL import Image\n",
    "from PIL import ImageDraw\n",
    "from PIL import ImageFont\n",
    "import textwrap\n",
    "# Open an Image\n",
    "img = Image.open('template.png')\n",
    "\n",
    "\n"
   ]
  },
  {
   "cell_type": "code",
   "execution_count": 51,
   "metadata": {},
   "outputs": [],
   "source": [
    "attendees =[\"Shiwam Sharma\", \"Nishit Gohil\", \"Farhan Ghori\", \"vinas viradia\", \"Akbari Kenil Mukeshbhai\", \"DHAVAL S BAVDA\", \"Bhavin\", \"NIKUL JIGNESHBHAI PATEL\", \"PATEL JAL UMESHKUMAR\", \"Priyanshu Balar\", \"Patel Krushang\", \"Yashrajsinh Solanki\", \"Dhruv Kaswala\", \"DARSHAK DHARAIYA\", \"Harsh Ajay\", \"Sachin Shiv Anand\", \"Dhruv Gupta\", \"Samarth Avasthi\", \"Smita Chauhan\", \"Ayush Kulkarni\", \"Siddhi Bhavsar\", \"Satvik Thummar\"]"
   ]
  },
  {
   "cell_type": "code",
   "execution_count": 52,
   "metadata": {},
   "outputs": [
    {
     "name": "stdout",
     "output_type": "stream",
     "text": [
      "Shiwam Sharma\n",
      "Nishit Gohil\n",
      "Farhan Ghori\n",
      "vinas viradia\n",
      "Akbari Kenil Mukeshbhai\n",
      "DHAVAL S BAVDA\n",
      "Bhavin\n",
      "NIKUL JIGNESHBHAI PATEL\n",
      "PATEL JAL UMESHKUMAR\n",
      "Priyanshu Balar\n",
      "Patel Krushang\n",
      "Yashrajsinh Solanki\n",
      "Dhruv Kaswala\n",
      "DARSHAK DHARAIYA\n",
      "Harsh Ajay\n",
      "Sachin Shiv Anand\n",
      "Dhruv Gupta\n",
      "Samarth Avasthi\n",
      "Smita Chauhan\n",
      "Ayush Kulkarni\n",
      "Siddhi Bhavsar\n",
      "Satvik Thummar\n"
     ]
    }
   ],
   "source": [
    "i=0\n",
    "for row in attendees:\n",
    "    i+=1\n",
    "    print(row)\n",
    "    astr = row\n",
    "    para = textwrap.wrap(astr, width=150)\n",
    "\n",
    "    MAX_W, MAX_H = 2000, 1414\n",
    "    im = Image.open('template.png')\n",
    "    draw = ImageDraw.Draw(im)\n",
    "    font = ImageFont.truetype(\n",
    "        'fredoka.ttf', 85)\n",
    "\n",
    "    current_h, pad = 10, 10\n",
    "    for line in para:\n",
    "        w, h = draw.textsize(line, font=font)\n",
    "        draw.text(((MAX_W - w) / 2, 500), line, font=font,fill = (18,34,157))\n",
    "        current_h += h + pad\n",
    "\n",
    "    # im.show()\n",
    "    im.save(\"certificates/\"+str(i)+\"Certificate_\"+row+\".png\")"
   ]
  },
  {
   "cell_type": "code",
   "execution_count": null,
   "metadata": {},
   "outputs": [],
   "source": []
  }
 ],
 "metadata": {
  "kernelspec": {
   "display_name": "Python 3",
   "language": "python",
   "name": "python3"
  },
  "language_info": {
   "codemirror_mode": {
    "name": "ipython",
    "version": 3
   },
   "file_extension": ".py",
   "mimetype": "text/x-python",
   "name": "python",
   "nbconvert_exporter": "python",
   "pygments_lexer": "ipython3",
   "version": "3.8.10"
  }
 },
 "nbformat": 4,
 "nbformat_minor": 4
}
